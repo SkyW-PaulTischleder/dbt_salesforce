{
  "nbformat": 4,
  "nbformat_minor": 0,
  "metadata": {
    "colab": {
      "provenance": [],
      "authorship_tag": "ABX9TyMxlJeV+cP9H0YTvERSlHwC",
      "include_colab_link": true
    },
    "kernelspec": {
      "name": "python3",
      "display_name": "Python 3"
    },
    "language_info": {
      "name": "python"
    }
  },
  "cells": [
    {
      "cell_type": "markdown",
      "metadata": {
        "id": "view-in-github",
        "colab_type": "text"
      },
      "source": [
        "<a href=\"https://colab.research.google.com/github/SkyW-PaulTischleder/dbt_salesforce/blob/master/Dayforce_pynb.ipynb\" target=\"_parent\"><img src=\"https://colab.research.google.com/assets/colab-badge.svg\" alt=\"Open In Colab\"/></a>"
      ]
    },
    {
      "cell_type": "code",
      "execution_count": null,
      "metadata": {
        "colab": {
          "base_uri": "https://localhost:8080/"
        },
        "id": "lC_zZCnJd2ag",
        "outputId": "35d09620-c0c2-48ba-ffc7-9bdd439af247"
      },
      "outputs": [
        {
          "output_type": "stream",
          "name": "stdout",
          "text": [
            "Collecting dayforce-client\n",
            "  Downloading dayforce_client-2.0.0-py3-none-any.whl (8.0 kB)\n",
            "Requirement already satisfied: requests in /usr/local/lib/python3.10/dist-packages (from dayforce-client) (2.31.0)\n",
            "Requirement already satisfied: attrs in /usr/local/lib/python3.10/dist-packages (from dayforce-client) (23.1.0)\n",
            "Collecting pysftp (from dayforce-client)\n",
            "  Downloading pysftp-0.2.9.tar.gz (25 kB)\n",
            "  Preparing metadata (setup.py) ... \u001b[?25l\u001b[?25hdone\n",
            "Collecting paramiko (from dayforce-client)\n",
            "  Downloading paramiko-3.3.1-py3-none-any.whl (224 kB)\n",
            "\u001b[2K     \u001b[90m━━━━━━━━━━━━━━━━━━━━━━━━━━━━━━━━━━━━━━━━\u001b[0m \u001b[32m224.8/224.8 kB\u001b[0m \u001b[31m10.8 MB/s\u001b[0m eta \u001b[36m0:00:00\u001b[0m\n",
            "\u001b[?25hRequirement already satisfied: cryptography in /usr/local/lib/python3.10/dist-packages (from dayforce-client) (41.0.5)\n",
            "Requirement already satisfied: cffi>=1.12 in /usr/local/lib/python3.10/dist-packages (from cryptography->dayforce-client) (1.16.0)\n",
            "Collecting bcrypt>=3.2 (from paramiko->dayforce-client)\n",
            "  Downloading bcrypt-4.0.1-cp36-abi3-manylinux_2_28_x86_64.whl (593 kB)\n",
            "\u001b[2K     \u001b[90m━━━━━━━━━━━━━━━━━━━━━━━━━━━━━━━━━━━━━━━━\u001b[0m \u001b[32m593.7/593.7 kB\u001b[0m \u001b[31m30.9 MB/s\u001b[0m eta \u001b[36m0:00:00\u001b[0m\n",
            "\u001b[?25hCollecting pynacl>=1.5 (from paramiko->dayforce-client)\n",
            "  Downloading PyNaCl-1.5.0-cp36-abi3-manylinux_2_17_x86_64.manylinux2014_x86_64.manylinux_2_24_x86_64.whl (856 kB)\n",
            "\u001b[2K     \u001b[90m━━━━━━━━━━━━━━━━━━━━━━━━━━━━━━━━━━━━━━━━\u001b[0m \u001b[32m856.7/856.7 kB\u001b[0m \u001b[31m39.8 MB/s\u001b[0m eta \u001b[36m0:00:00\u001b[0m\n",
            "\u001b[?25hRequirement already satisfied: charset-normalizer<4,>=2 in /usr/local/lib/python3.10/dist-packages (from requests->dayforce-client) (3.3.1)\n",
            "Requirement already satisfied: idna<4,>=2.5 in /usr/local/lib/python3.10/dist-packages (from requests->dayforce-client) (3.4)\n",
            "Requirement already satisfied: urllib3<3,>=1.21.1 in /usr/local/lib/python3.10/dist-packages (from requests->dayforce-client) (2.0.7)\n",
            "Requirement already satisfied: certifi>=2017.4.17 in /usr/local/lib/python3.10/dist-packages (from requests->dayforce-client) (2023.7.22)\n",
            "Requirement already satisfied: pycparser in /usr/local/lib/python3.10/dist-packages (from cffi>=1.12->cryptography->dayforce-client) (2.21)\n",
            "Building wheels for collected packages: pysftp\n",
            "  Building wheel for pysftp (setup.py) ... \u001b[?25l\u001b[?25hdone\n",
            "  Created wheel for pysftp: filename=pysftp-0.2.9-py3-none-any.whl size=15496 sha256=aca1f5a96d22d09f8c2af31219357d3e6fead73a6ec99b78bad6e81ff54b11d3\n",
            "  Stored in directory: /root/.cache/pip/wheels/64/52/87/2683826a06d053045a9bd11f05850e26bbdbfbf821ee6735f0\n",
            "Successfully built pysftp\n",
            "Installing collected packages: bcrypt, pynacl, paramiko, pysftp, dayforce-client\n",
            "Successfully installed bcrypt-4.0.1 dayforce-client-2.0.0 paramiko-3.3.1 pynacl-1.5.0 pysftp-0.2.9\n"
          ]
        }
      ],
      "source": [
        "pip install dayforce-client"
      ]
    },
    {
      "cell_type": "code",
      "source": [
        "pip install pandas"
      ],
      "metadata": {
        "colab": {
          "base_uri": "https://localhost:8080/"
        },
        "id": "ebVbqTOVy9L-",
        "outputId": "6a16d010-3ecb-4aca-db2b-317d15c560bc"
      },
      "execution_count": null,
      "outputs": [
        {
          "output_type": "stream",
          "name": "stdout",
          "text": [
            "Requirement already satisfied: pandas in /usr/local/lib/python3.10/dist-packages (1.5.3)\n",
            "Requirement already satisfied: python-dateutil>=2.8.1 in /usr/local/lib/python3.10/dist-packages (from pandas) (2.8.2)\n",
            "Requirement already satisfied: pytz>=2020.1 in /usr/local/lib/python3.10/dist-packages (from pandas) (2023.3.post1)\n",
            "Requirement already satisfied: numpy>=1.21.0 in /usr/local/lib/python3.10/dist-packages (from pandas) (1.23.5)\n",
            "Requirement already satisfied: six>=1.5 in /usr/local/lib/python3.10/dist-packages (from python-dateutil>=2.8.1->pandas) (1.16.0)\n"
          ]
        }
      ]
    },
    {
      "cell_type": "markdown",
      "source": [
        "Get the list of reports with getReportMetadata\n",
        "https://github.com/goodeggs/dayforce-client/blob/master/dayforce_client/client.py#L153\n"
      ],
      "metadata": {
        "id": "ZGwoEnEs_pJX"
      }
    },
    {
      "cell_type": "markdown",
      "source": [
        "https://pypi.org/project/dayforce-client/\n"
      ],
      "metadata": {
        "id": "jT2PiR_cdiLk"
      }
    },
    {
      "cell_type": "code",
      "source": [
        "import os\n",
        "\n",
        "from dayforce_client.client import Dayforce\n",
        "\n",
        "\n",
        "#date = datetime.now().strftime(\"%Y_%m_%d\")\n",
        "#snapshotdate = datetime.now().strftime(\"%Y-%m-%d\")\n",
        "\n",
        "\n",
        "DAYFORCE_USERNAME = 'datawarehouse.api'\n",
        "DAYFORCE_PASSWORD = 'Winter123!'\n",
        "DAYFORCE_CLIENT_NAMESPACE = 'skywater'\n",
        "\n",
        "\n",
        "df = Dayforce(username=DAYFORCE_USERNAME,\n",
        "              password=DAYFORCE_PASSWORD,\n",
        "              client_namespace=DAYFORCE_CLIENT_NAMESPACE,\n",
        "              dayforce_release=\"232\")\n",
        "#Dayforce(username='your-username', client_namespace='your-client-namespace', dayforce_release=57, api_version='V1', url='https://usr57-services.dayforcehcm.com/Api/your-client-namespace/V1')\n",
        "#resp = df.get_employee_details(xrefcode='12458')\n",
        "resp = df.get_reports()\n",
        "for rawdata in resp.get(\"Data\"):\n",
        "  print(rawdata)\n",
        "#print(resp.get(\"Data\"))"
      ],
      "metadata": {
        "colab": {
          "base_uri": "https://localhost:8080/"
        },
        "id": "rb5ay_S6eCmg",
        "outputId": "72bfc979-679c-4683-b062-e373fe7385a5"
      },
      "execution_count": null,
      "outputs": [
        {
          "output_type": "stream",
          "name": "stdout",
          "text": [
            "{'Name': 'API_FinalPT', 'XRefCode': 'API_FinalPT', 'MaxRows': 20000}\n",
            "{'Name': 'API_Employee_Census', 'XRefCode': 'API_Employee_Census', 'MaxRows': 20000}\n"
          ]
        }
      ]
    },
    {
      "cell_type": "markdown",
      "source": [
        "Get Report Meta Data\n",
        "\n",
        "get_report_metadata\n"
      ],
      "metadata": {
        "id": "6B6aRoS9_mDt"
      }
    },
    {
      "cell_type": "code",
      "source": [
        "import os\n",
        "\n",
        "from dayforce_client.client import Dayforce\n",
        "\n",
        "\n",
        "#date = datetime.now().strftime(\"%Y_%m_%d\")\n",
        "#snapshotdate = datetime.now().strftime(\"%Y-%m-%d\")\n",
        "\n",
        "DAYFORCE_USERNAME = 'datawarehouse.api'\n",
        "DAYFORCE_PASSWORD = 'Winter123!'\n",
        "DAYFORCE_CLIENT_NAMESPACE = 'skywater'\n",
        "\n",
        "df = Dayforce(username=DAYFORCE_USERNAME,\n",
        "              password=DAYFORCE_PASSWORD,\n",
        "              client_namespace=DAYFORCE_CLIENT_NAMESPACE,\n",
        "              dayforce_release=\"231\")\n",
        "\n",
        "#Dayforce(username='your-username', client_namespace='your-client-namespace', dayforce_release=57, api_version='V1', url='https://usr57-services.dayforcehcm.com/Api/your-client-namespace/V1')\n",
        "#resp = df.get_employee_details(xrefcode='12458')\n",
        "resp = df.get_report_metadata(xrefcode='API_FinalPT')\n",
        "for rawdata in resp.get(\"Data\"):\n",
        "  print(rawdata)"
      ],
      "metadata": {
        "colab": {
          "base_uri": "https://localhost:8080/"
        },
        "id": "LE_yVVN9GCa-",
        "outputId": "0eaacf6c-cbd5-4bca-a879-d5324ee54373"
      },
      "execution_count": null,
      "outputs": [
        {
          "output_type": "stream",
          "name": "stdout",
          "text": [
            "{'Name': 'API_FinalPT', 'XRefCode': 'API_FinalPT', 'MaxRows': 20000, 'ColumnMetadata': [{'CodeName': 'OrgUnit.ShortName', 'DisplayName': 'Location', 'DataType': 'String'}, {'CodeName': 'Department.DepartmentId', 'DisplayName': 'Department Id', 'DataType': 'String'}, {'CodeName': 'Department.ShortName', 'DisplayName': 'Department Name', 'DataType': 'String'}, {'CodeName': 'Employee.EmployeeId', 'DisplayName': 'Employee Number', 'DataType': 'String'}, {'CodeName': 'Employee.DisplayName', 'DisplayName': 'Employee Name', 'DataType': 'String'}, {'CodeName': 'Employee.Gender', 'DisplayName': 'Employee Gender', 'DataType': 'String'}, {'CodeName': 'DeptJob.JobId', 'DisplayName': 'Job Id', 'DataType': 'String'}, {'CodeName': 'DeptJob.ShortName', 'DisplayName': 'Job Assignment', 'DataType': 'String'}, {'CodeName': 'EmployeeManager.EmployeeManagerId', 'DisplayName': 'Employee Manager ID #', 'DataType': 'String'}, {'CodeName': 'EmployeeManager.ManagerDisplayName', 'DisplayName': 'Manager Name', 'DataType': 'String'}, {'CodeName': 'DenormEmployeeContact.BusinessEmail', 'DisplayName': 'Business Email', 'DataType': 'String'}, {'CodeName': 'DenormEmployeeContact.BusinessPhone', 'DisplayName': 'Business Phone', 'DataType': 'String'}, {'CodeName': 'DenormEmployeeContact.HomePhone', 'DisplayName': 'Home Phone', 'DataType': 'String'}, {'CodeName': 'DenormEmployeeContact.PersonalEmail', 'DisplayName': 'Personal Email', 'DataType': 'String'}, {'CodeName': 'DFPayGrade.LongName', 'DisplayName': 'Pay Grade Description', 'DataType': 'String'}, {'CodeName': 'DFPayGrade.DFPayGradeId', 'DisplayName': 'Pay Grade Id', 'DataType': 'String'}, {'CodeName': 'EmploymentStatus.ShortName', 'DisplayName': 'Employment Status', 'DataType': 'String'}, {'CodeName': 'Employee.FirstName', 'DisplayName': 'Employee First Name', 'DataType': 'String'}, {'CodeName': 'Employee.MiddleName', 'DisplayName': 'Employee Middle Name', 'DataType': 'String'}, {'CodeName': 'Employee.HireDate', 'DisplayName': 'Hire Date', 'DataType': 'Date'}, {'CodeName': 'Employee.OriginalHireDate', 'DisplayName': 'Original Hire Date', 'DataType': 'Date'}, {'CodeName': 'Employee.SeniorityDate', 'DisplayName': 'Seniority Date', 'DataType': 'Date'}, {'CodeName': 'Employee.TerminationDate', 'DisplayName': 'Termination Date', 'DataType': 'Date'}, {'CodeName': 'DenormEmployeeProperty1.Field16', 'DisplayName': 'EE Initials', 'DataType': 'String'}, {'CodeName': 'EmployeeWorkAssignment.Id', 'DisplayName': 'Work Assignment Id', 'DataType': 'String'}, {'CodeName': 'Job.ShortName', 'DisplayName': 'Job Name', 'DataType': 'String'}, {'CodeName': 'DenormEmployeeProperty1.Field37', 'DisplayName': 'ELT Member', 'DataType': 'String'}, {'CodeName': 'Employee.LastName', 'DisplayName': 'Employee Last Name', 'DataType': 'String'}, {'CodeName': 'DeptJob.LongName', 'DisplayName': 'Job Assignment Description', 'DataType': 'String'}, {'CodeName': 'PayGroup.LongName', 'DisplayName': 'Pay Group Description', 'DataType': 'String'}, {'CodeName': 'PayClass.ShortName', 'DisplayName': 'Pay Class Name', 'DataType': 'String'}, {'CodeName': 'Employee.LastNamePrefixId', 'DisplayName': 'Employee Last Name Prefix Id', 'DataType': 'String'}], 'Parameters': [{'Name': 'EmploymentStatusGroup.ShortName', 'DisplayName': 'Employment Status Group Name', 'ReportParameterMetadataId': '86c4c44c-0494-48eb-99a8-56b5677a2aa2', 'DataType': 'Int32', 'Operator': 'In', 'DefaultValue': '1,2,4,3', 'IsRequired': True, 'AvailableValues': [{'ListValueId': 1, 'Name': 'Active'}, {'ListValueId': 2, 'Name': 'Inactive'}, {'ListValueId': 3, 'Name': 'Terminated'}, {'ListValueId': 4, 'Name': 'Pre-Start'}]}, {'Name': 'OrgUnit.ShortName', 'DisplayName': 'Location', 'ReportParameterMetadataId': 'c347a0b5-5c23-4c2e-baa0-30e6f7eedc31', 'DataType': 'Int32', 'Operator': 'In', 'IsRequired': False, 'AvailableValues': [{'ListValueId': 1000, 'Name': 'SkyWater'}, {'ListValueId': 1001, 'Name': 'Minnesota'}, {'ListValueId': 1002, 'Name': 'California'}, {'ListValueId': 1003, 'Name': 'Bloomington'}, {'ListValueId': 1004, 'Name': 'CA Remote'}, {'ListValueId': 1005, 'Name': 'Remote S&M - CA'}, {'ListValueId': 1006, 'Name': 'Fab - MN'}, {'ListValueId': 1007, 'Name': 'Test/Sort - MN'}, {'ListValueId': 1008, 'Name': 'Photo - MN'}, {'ListValueId': 1009, 'Name': 'Diffusion - MN'}, {'ListValueId': 1010, 'Name': 'Films - MN'}, {'ListValueId': 1011, 'Name': 'Etch - MN'}, {'ListValueId': 1012, 'Name': 'Metals - MN'}, {'ListValueId': 1013, 'Name': 'Implant - MN'}, {'ListValueId': 1014, 'Name': 'Westech/CMP - MN'}, {'ListValueId': 1015, 'Name': 'Maintenance - MN'}, {'ListValueId': 1016, 'Name': 'Fab Facilities - MN'}, {'ListValueId': 1017, 'Name': 'Other Mfg - MN'}, {'ListValueId': 1018, 'Name': 'Metrology - MN'}, {'ListValueId': 1019, 'Name': 'Fab/Yield Engineering - MN'}, {'ListValueId': 1020, 'Name': 'Foundry Engineering Group - MN'}, {'ListValueId': 1021, 'Name': 'Test Engineering - MN'}, {'ListValueId': 1022, 'Name': 'ITG Admin - MN'}, {'ListValueId': 1023, 'Name': 'Mfg Operation Technology - MN'}, {'ListValueId': 1024, 'Name': 'ITG App Maint - MN'}, {'ListValueId': 1025, 'Name': 'ITG Infra - MN'}, {'ListValueId': 1026, 'Name': 'ITG Help Desk - MN'}, {'ListValueId': 1027, 'Name': 'Mfg Safety - MN'}, {'ListValueId': 1028, 'Name': 'Mfg Admin - MN'}, {'ListValueId': 1029, 'Name': 'Reliability - MN'}, {'ListValueId': 1030, 'Name': 'Purchasing - MN'}, {'ListValueId': 1031, 'Name': 'Production Control - MN'}, {'ListValueId': 1032, 'Name': 'Quality Assurance - MN'}, {'ListValueId': 1033, 'Name': 'Failure Analysis - MN'}, {'ListValueId': 1034, 'Name': 'Factory Marketing - MN'}, {'ListValueId': 1035, 'Name': 'Administration - MN'}, {'ListValueId': 1036, 'Name': 'Finance/Accounting - MN'}, {'ListValueId': 1037, 'Name': 'HR - MN'}, {'ListValueId': 1038, 'Name': 'Kentucky'}, {'ListValueId': 1039, 'Name': 'KY Remote'}, {'ListValueId': 1040, 'Name': 'Corporate Technology - MN'}, {'ListValueId': 1041, 'Name': 'Sales Administration - MN'}, {'ListValueId': 1042, 'Name': 'Customer Management - MN'}, {'ListValueId': 1043, 'Name': 'Design Enablement - MN'}, {'ListValueId': 1044, 'Name': 'Corporate Security - MN'}, {'ListValueId': 1045, 'Name': 'Design Enablement Sales - MN'}, {'ListValueId': 1046, 'Name': 'North Carolina'}, {'ListValueId': 1047, 'Name': 'NC - Federal'}, {'ListValueId': 1048, 'Name': 'Bloomington - Federal'}, {'ListValueId': 1049, 'Name': 'Administration - MNFed'}, {'ListValueId': 1050, 'Name': 'Administration - NCFed'}, {'ListValueId': 1051, 'Name': 'Legal - MN'}, {'ListValueId': 1052, 'Name': 'Internal R and D - MN'}, {'ListValueId': 1053, 'Name': 'SWFL COGS Startup Cost'}, {'ListValueId': 1054, 'Name': 'SWFL Fab'}, {'ListValueId': 1055, 'Name': 'SWFL Maintenance'}, {'ListValueId': 1056, 'Name': 'SWFL Fab Facilities'}, {'ListValueId': 1057, 'Name': 'SWFL Other Manufacturing'}, {'ListValueId': 1058, 'Name': 'SWFL OpEx Startup Cost'}, {'ListValueId': 1059, 'Name': 'SWFL IT'}, {'ListValueId': 1060, 'Name': 'SWFL Administration'}, {'ListValueId': 1061, 'Name': 'SWFL Finance and Accounting'}, {'ListValueId': 1062, 'Name': 'SWFL HR'}, {'ListValueId': 1063, 'Name': 'SWFL Marketing and Sales'}, {'ListValueId': 1064, 'Name': 'Florida'}, {'ListValueId': 1065, 'Name': 'Kissimmee'}, {'ListValueId': 1066, 'Name': 'Government Relations - MN'}, {'ListValueId': 1067, 'Name': 'PMO - MN'}, {'ListValueId': 1068, 'Name': 'SWFL Quality Assurance'}, {'ListValueId': 1069, 'Name': 'EH&S - MN'}, {'ListValueId': 1070, 'Name': 'Digital Technology - MN'}]}, {'Name': 'Department.ShortName', 'DisplayName': 'Department Name', 'ReportParameterMetadataId': 'd3d2200c-b760-4490-a851-b757e9a04fbf', 'DataType': 'Int32', 'Operator': 'In', 'DefaultValue': '29,38,34,36,37,39,4,55,56,6,1,11,14,28,27,5,30,15,53,31,8,41,17,19,20,33,40,10,7,13,22,18,21,12,3,54,25,24,26,23,32,35,49,42,43,45,50,51,48,44,52,47,46,57,16,2,9', 'IsRequired': False, 'AvailableValues': [{'ListValueId': 1, 'Name': 'Fab'}, {'ListValueId': 2, 'Name': 'Test/Sort'}, {'ListValueId': 3, 'Name': 'Photo'}, {'ListValueId': 4, 'Name': 'Diffusion'}, {'ListValueId': 5, 'Name': 'Films'}, {'ListValueId': 6, 'Name': 'Etch'}, {'ListValueId': 7, 'Name': 'Metals'}, {'ListValueId': 8, 'Name': 'Implant'}, {'ListValueId': 9, 'Name': 'Westech/CMP'}, {'ListValueId': 10, 'Name': 'Maintenance'}, {'ListValueId': 11, 'Name': 'Fab Facilities'}, {'ListValueId': 12, 'Name': 'Other Mfg'}, {'ListValueId': 13, 'Name': 'Metrology'}, {'ListValueId': 14, 'Name': 'Fab/Yield Engrg'}, {'ListValueId': 15, 'Name': 'Foundry Engrg Group'}, {'ListValueId': 16, 'Name': 'Test Engineering'}, {'ListValueId': 17, 'Name': 'ITG Admin'}, {'ListValueId': 18, 'Name': 'Mfg Operation Technology'}, {'ListValueId': 19, 'Name': 'ITG App Maintenance'}, {'ListValueId': 20, 'Name': 'ITG Help Desk'}, {'ListValueId': 21, 'Name': 'Mfg Safety'}, {'ListValueId': 22, 'Name': 'Mfg Admin'}, {'ListValueId': 23, 'Name': 'Reliability'}, {'ListValueId': 24, 'Name': 'Purchasing'}, {'ListValueId': 25, 'Name': 'Production Control'}, {'ListValueId': 26, 'Name': 'Quality Assurance'}, {'ListValueId': 27, 'Name': 'Failure Analysis'}, {'ListValueId': 28, 'Name': 'Factory Marketing'}, {'ListValueId': 29, 'Name': 'Administration'}, {'ListValueId': 30, 'Name': 'Finance/Accounting'}, {'ListValueId': 31, 'Name': 'Human Resources'}, {'ListValueId': 32, 'Name': 'Remote S and M'}, {'ListValueId': 33, 'Name': 'ITG Infra'}, {'ListValueId': 34, 'Name': 'Corporate Technology'}, {'ListValueId': 35, 'Name': 'Sales Administration'}, {'ListValueId': 36, 'Name': 'Customer Management'}, {'ListValueId': 37, 'Name': 'Design Enablement'}, {'ListValueId': 38, 'Name': 'Corporate Security'}, {'ListValueId': 39, 'Name': 'Design Enablement Sales'}, {'ListValueId': 40, 'Name': 'Legal'}, {'ListValueId': 41, 'Name': 'Internal R and D'}, {'ListValueId': 42, 'Name': 'SWFL COGS Startup Cost'}, {'ListValueId': 43, 'Name': 'SWFL Fab'}, {'ListValueId': 44, 'Name': 'SWFL Maintenance'}, {'ListValueId': 45, 'Name': 'SWFL Fab Facilities'}, {'ListValueId': 46, 'Name': 'SWFL Other Manufacturing'}, {'ListValueId': 47, 'Name': 'SWFL OpEx Startup Cost'}, {'ListValueId': 48, 'Name': 'SWFL IT'}, {'ListValueId': 49, 'Name': 'SWFL Administration'}, {'ListValueId': 50, 'Name': 'SWFL Finance and Accounting'}, {'ListValueId': 51, 'Name': 'SWFL HR'}, {'ListValueId': 52, 'Name': 'SWFL Marketing and Sales'}, {'ListValueId': 53, 'Name': 'Government Relations'}, {'ListValueId': 54, 'Name': 'PMO'}, {'ListValueId': 55, 'Name': 'Digital Technology'}, {'ListValueId': 56, 'Name': 'EHS'}, {'ListValueId': 57, 'Name': 'SWFL Quality Assurance'}]}, {'Name': 'Job.ShortName', 'DisplayName': 'Job Name', 'ReportParameterMetadataId': 'd0d09734-1ada-4b42-ad60-c152255d639f', 'DataType': 'Int32', 'Operator': 'In', 'DefaultValue': '1000,1001,1002,1003,1004,1644,1645,1649,1646,1650,1648,1647,1005,1006,1007,1008,1009,1010,1504,1011,1012,1013,1014,1015,1016,1017,1018,1019,1020,1021,1022,1637,1711,1717,1707,1685,1708,1709,1710,1469,1208,1741,1744,1687,1476,1482,1480,1477,1481,1479,1478,1473,1474,1471,1470,1472,1475,1410,1411,1414,1413,1720,1412,1550,1548,1551,1549,1553,1552,1617,1615,1614,1618,1616,1715,1543,1541,1544,1542,1546,1545,1023,1024,1025,1026,1029,1027,1028,1030,1031,1032,1396,1537,1536,1101,1602,1724,1619,1502,1547,1577,1540,1033,1424,1425,1428,1426,1427,1429,1034,1035,1037,1556,1554,1557,1555,1558,1675,1507,1505,1508,1506,1036,1038,1688,1696,1689,1653,1654,1655,1039,1652,1483,1484,1485,1487,1488,1486,1492,1490,1489,1493,1491,1044,1045,1040,1046,1041,1042,1043,1047,1048,1049,1716,1050,1051,1052,1053,1054,1055,1056,1057,1058,1455,1453,1452,1456,1454,1733,1735,1734,1736,1575,1422,1064,1065,1066,1067,1068,1069,1070,1071,1072,1073,1074,1713,1751,1075,1076,1077,1078,1079,1712,1080,1722,1732,1462,1463,1460,1461,1459,1620,1621,1624,1623,1622,1633,1634,1085,1086,1087,1088,1089,1090,1091,1092,1093,1094,1095,1096,1097,1098,1533,1531,1082,1081,1530,1099,1534,1532,1083,1084,1100,1457,1102,1103,1737,1514,1515,1104,1105,1106,1107,1108,1109,1110,1111,1112,1059,1060,1061,1062,1063,1113,1116,1114,1115,1117,1118,1119,1597,1598,1599,1600,1601,1120,1121,1122,1123,1124,1754,1755,1757,1756,1758,1125,1126,1127,1128,1129,1130,1131,1132,1133,1134,1671,1135,1136,1670,1669,1673,1706,1137,1672,1138,1139,1443,1442,1580,1581,1585,1582,1584,1583,1445,1444,1643,1511,1566,1570,1567,1571,1569,1568,1141,1142,1143,1144,1145,1146,1147,1148,1149,1150,1151,1152,1501,1153,1154,1155,1500,1156,1157,1739,1158,1159,1160,1161,1651,1719,1641,1638,1642,1640,1639,1521,1519,1162,1522,1520,1166,1167,1168,1169,1170,1171,1690,1752,1172,1173,1174,1175,1176,1177,1178,1179,1416,1180,1181,1182,1183,1184,1185,1186,1187,1188,1750,1677,1189,1190,1191,1192,1193,1627,1513,1626,1194,1195,1196,1197,1198,1199,1680,1681,1678,1679,1201,1202,1203,1204,1205,1206,1207,1210,1211,1213,1214,1657,1658,1659,1216,1217,1218,1219,1220,1430,1431,1435,1432,1434,1433,1420,1725,1528,1526,1525,1529,1527,1418,1419,1517,1516,1518,1446,1447,1451,1448,1450,1449,1745,1748,1747,1221,1222,1223,1701,1702,1704,1703,1705,1224,1225,1509,1226,1227,1228,1229,1230,1231,1573,1727,1209,1215,1212,1676,1436,1437,1441,1438,1440,1439,1232,1233,1417,1234,1660,1742,1235,1236,1237,1238,1239,1240,1241,1242,1243,1244,1245,1628,1629,1632,1631,1630,1738,1246,1247,1248,1249,1250,1251,1252,1253,1606,1604,1603,1607,1605,1395,1397,1565,1635,1254,1255,1256,1257,1258,1259,1260,1261,1262,1263,1264,1267,1265,1266,1268,1269,1270,1271,1272,1273,1276,1274,1275,1277,1278,1279,1280,1281,1282,1283,1284,1402,1403,1285,1401,1286,1287,1398,1399,1400,1288,1289,1290,1291,1497,1292,1721,1495,1498,1496,1625,1293,1294,1295,1296,1297,1298,1299,1300,1301,1302,1303,1692,1693,1694,1666,1307,1308,1311,1309,1310,1312,1313,1664,1684,1667,1665,1729,1731,1730,1608,1612,1609,1613,1611,1610,1314,1315,1316,1317,1318,1319,1320,1321,1322,1323,1324,1325,1326,1327,1328,1329,1330,1331,1332,1333,1334,1335,1336,1586,1587,1588,1728,1589,1590,1591,1592,1593,1594,1595,1596,1337,1338,1572,1538,1512,1697,1695,1743,1578,1579,1762,1759,1763,1761,1760,1559,1576,1423,1163,1421,1140,1574,1636,1165,1564,1562,1458,1746,1164,1563,1339,1340,1341,1342,1343,1344,1345,1346,1347,1753,1661,1662,1348,1349,1350,1351,1352,1353,1354,1409,1408,1404,1405,1406,1407,1355,1356,1357,1358,1359,1360,1363,1361,1362,1749,1364,1365,1366,1393,1560,1561,1698,1699,1367,1370,1368,1369,1371,1372,1373,1374,1375,1376,1377,1378,1379,1380,1381,1382,1383,1384,1686,1385,1718,1503,1714,1663,1415,1200,1700,1691,1524,1723,1535,1523,1394,1494,1499,1386,1467,1468,1465,1466,1389,1387,1464,1388,1390,1391,1392,1304,1305,1306', 'IsRequired': False, 'AvailableValues': [{'ListValueId': 1000, 'Name': 'Account Exec'}, {'ListValueId': 1001, 'Name': 'Account Exec MPS'}, {'ListValueId': 1002, 'Name': 'Account Exec Prin'}, {'ListValueId': 1003, 'Name': 'Account Exec Sr'}, {'ListValueId': 1004, 'Name': 'Account Exec Sr Prin'}, {'ListValueId': 1005, 'Name': 'Accountant 1'}, {'ListValueId': 1006, 'Name': 'Accountant 2'}, {'ListValueId': 1007, 'Name': 'Accountant Prin 1'}, {'ListValueId': 1008, 'Name': 'Accountant Prin 2'}, {'ListValueId': 1009, 'Name': 'Accountant Sr 1'}, {'ListValueId': 1010, 'Name': 'Accountant Sr 2'}, {'ListValueId': 1011, 'Name': 'Accounting Mgr'}, {'ListValueId': 1012, 'Name': 'Accounting Mgr Sr'}, {'ListValueId': 1013, 'Name': 'Accounting Supv'}, {'ListValueId': 1014, 'Name': 'Acct Support'}, {'ListValueId': 1015, 'Name': 'Acct Support Spec'}, {'ListValueId': 1016, 'Name': 'Acct Support Sr'}, {'ListValueId': 1017, 'Name': 'Acct Support Sr Spec'}, {'ListValueId': 1018, 'Name': 'Admin Asst 1'}, {'ListValueId': 1019, 'Name': 'Admin Asst 2'}, {'ListValueId': 1020, 'Name': 'Admin Asst Spec'}, {'ListValueId': 1021, 'Name': 'Admin Asst Sr Spec'}, {'ListValueId': 1022, 'Name': 'Admin Asst Sr Spt'}, {'ListValueId': 1023, 'Name': 'Buyer 1'}, {'ListValueId': 1024, 'Name': 'Buyer 2'}, {'ListValueId': 1025, 'Name': 'Buyer Sr'}, {'ListValueId': 1026, 'Name': 'CAD Engr'}, {'ListValueId': 1027, 'Name': 'CAD Engr Prin'}, {'ListValueId': 1028, 'Name': 'CAD Engr Sr'}, {'ListValueId': 1029, 'Name': 'CAD Engr MTS'}, {'ListValueId': 1030, 'Name': 'CAD Engr Sr Prin'}, {'ListValueId': 1031, 'Name': 'CAD Engr Sr Staff'}, {'ListValueId': 1032, 'Name': 'CAD Engr Staff'}, {'ListValueId': 1033, 'Name': 'Contingent Workforce'}, {'ListValueId': 1034, 'Name': 'Controller'}, {'ListValueId': 1035, 'Name': 'Controller Sr'}, {'ListValueId': 1036, 'Name': 'Corporate Controller'}, {'ListValueId': 1037, 'Name': 'Co-op/Intern'}, {'ListValueId': 1038, 'Name': 'Corporate Controller Sr'}, {'ListValueId': 1039, 'Name': 'CTO'}, {'ListValueId': 1040, 'Name': 'Customer Mgt Rep Prin'}, {'ListValueId': 1041, 'Name': 'Customer Mgt Rep Sr Prin'}, {'ListValueId': 1042, 'Name': 'Customer Mgt Rep Sr Staff'}, {'ListValueId': 1043, 'Name': 'Customer Mgt Rep Staff'}, {'ListValueId': 1044, 'Name': 'Customer Mgt Rep 1'}, {'ListValueId': 1045, 'Name': 'Customer Mgt Rep 2'}, {'ListValueId': 1046, 'Name': 'Customer Mgt Rep Sr'}, {'ListValueId': 1047, 'Name': 'Database Admin 1'}, {'ListValueId': 1048, 'Name': 'Database Admin 2'}, {'ListValueId': 1049, 'Name': 'Database Admin Prin'}, {'ListValueId': 1050, 'Name': 'Database Admin Sr'}, {'ListValueId': 1051, 'Name': 'Database Admin Sr Pr'}, {'ListValueId': 1052, 'Name': 'Database Admin Sr St'}, {'ListValueId': 1053, 'Name': 'Database Admin Staff'}, {'ListValueId': 1054, 'Name': 'Defect Tech Prin'}, {'ListValueId': 1055, 'Name': 'Defect Tech Spec'}, {'ListValueId': 1056, 'Name': 'Defect Technician 1'}, {'ListValueId': 1057, 'Name': 'Defect Technician 2'}, {'ListValueId': 1058, 'Name': 'Defect Technician Sr'}, {'ListValueId': 1059, 'Name': 'FA Admin 1'}, {'ListValueId': 1060, 'Name': 'FA Admin 2'}, {'ListValueId': 1061, 'Name': 'FA Admin Spec'}, {'ListValueId': 1062, 'Name': 'FA Admin Spec Sr'}, {'ListValueId': 1063, 'Name': 'FA Admin Sr'}, {'ListValueId': 1064, 'Name': 'Document Control Analyst 1'}, {'ListValueId': 1065, 'Name': 'Document Control Analyst 2'}, {'ListValueId': 1066, 'Name': 'Document Control Analyst Prin'}, {'ListValueId': 1067, 'Name': 'Document Control Analyst Sr'}, {'ListValueId': 1068, 'Name': 'Document Control Analyst SrPr'}, {'ListValueId': 1069, 'Name': 'Document Control Analyst SrSt'}, {'ListValueId': 1070, 'Name': 'Document Control Analyst Stf'}, {'ListValueId': 1071, 'Name': 'EH and S Mgr'}, {'ListValueId': 1072, 'Name': 'EH and S Mgr Sr'}, {'ListValueId': 1073, 'Name': 'EH and S Sect Mgr'}, {'ListValueId': 1074, 'Name': 'EHS Engr 1'}, {'ListValueId': 1075, 'Name': 'EHS Engr 2'}, {'ListValueId': 1076, 'Name': 'EHS Engr Prin'}, {'ListValueId': 1077, 'Name': 'EHS Engr Sr'}, {'ListValueId': 1078, 'Name': 'EHS Engr Sr Prin'}, {'ListValueId': 1079, 'Name': 'EHS Engr Sr Staff'}, {'ListValueId': 1080, 'Name': 'EHS Engr Staff'}, {'ListValueId': 1081, 'Name': 'Equipment Engr Prin'}, {'ListValueId': 1082, 'Name': 'Equipment Engr MTS'}, {'ListValueId': 1083, 'Name': 'Equipment Engr Sr Prin'}, {'ListValueId': 1084, 'Name': 'Equipment Engr Sr Staff'}, {'ListValueId': 1085, 'Name': 'Equip Maint Dir'}, {'ListValueId': 1086, 'Name': 'Equip Maint Dir Sr'}, {'ListValueId': 1087, 'Name': 'Equip Maint Mgr'}, {'ListValueId': 1088, 'Name': 'Equip Maint Mgr Sr'}, {'ListValueId': 1089, 'Name': 'Equip Maint Sect Mgr'}, {'ListValueId': 1090, 'Name': 'Equip Maint Supv 1'}, {'ListValueId': 1091, 'Name': 'Equip Maint Supv 2'}, {'ListValueId': 1092, 'Name': 'Equip Maint Supv Sr'}, {'ListValueId': 1093, 'Name': 'Equip Maint Tech 1'}, {'ListValueId': 1094, 'Name': 'Equip Maint Tech 2'}, {'ListValueId': 1095, 'Name': 'Equip Maint Tech Pr'}, {'ListValueId': 1096, 'Name': 'Equip Maint Tech Spc'}, {'ListValueId': 1097, 'Name': 'Equip Maint Tech Sr'}, {'ListValueId': 1098, 'Name': 'Equipment Engr'}, {'ListValueId': 1099, 'Name': 'Equipment Engr Sr'}, {'ListValueId': 1100, 'Name': 'Equipment Engr Staff'}, {'ListValueId': 1101, 'Name': 'Chief Financial Officer'}, {'ListValueId': 1102, 'Name': 'EVP Operations'}, {'ListValueId': 1103, 'Name': 'EVP Sales '}, {'ListValueId': 1104, 'Name': 'Exec Asst to CEO'}, {'ListValueId': 1105, 'Name': 'Executive Assoc 1'}, {'ListValueId': 1106, 'Name': 'Executive Assoc 2'}, {'ListValueId': 1107, 'Name': 'Executive Assoc Sr'}, {'ListValueId': 1108, 'Name': 'Expeditor 1'}, {'ListValueId': 1109, 'Name': 'Expeditor 2'}, {'ListValueId': 1110, 'Name': 'Expeditor Specialist'}, {'ListValueId': 1111, 'Name': 'Expeditor Sr'}, {'ListValueId': 1112, 'Name': 'Expeditor Sr Spec'}, {'ListValueId': 1113, 'Name': 'FA Engr'}, {'ListValueId': 1114, 'Name': 'FA Engr Prin'}, {'ListValueId': 1115, 'Name': 'FA Engr Sr'}, {'ListValueId': 1116, 'Name': 'FA Engr MTS'}, {'ListValueId': 1117, 'Name': 'FA Engr Sr Prin'}, {'ListValueId': 1118, 'Name': 'FA Engr Sr Staff'}, {'ListValueId': 1119, 'Name': 'FA Engr Staff'}, {'ListValueId': 1120, 'Name': 'FA Technician 1'}, {'ListValueId': 1121, 'Name': 'FA Technician 2'}, {'ListValueId': 1122, 'Name': 'FA Technician Prin'}, {'ListValueId': 1123, 'Name': 'FA Technician Spec'}, {'ListValueId': 1124, 'Name': 'FA Technician Sr'}, {'ListValueId': 1125, 'Name': 'Fab Mfg Director'}, {'ListValueId': 1126, 'Name': 'Fab Mfg Director Sr'}, {'ListValueId': 1127, 'Name': 'Fab Mfg Manager'}, {'ListValueId': 1128, 'Name': 'Fab Mfg Mgr Sr'}, {'ListValueId': 1129, 'Name': 'Fab Mfg Sect Mgr'}, {'ListValueId': 1130, 'Name': 'Fab Ops Tech 1'}, {'ListValueId': 1131, 'Name': 'Fab Ops Tech 2'}, {'ListValueId': 1132, 'Name': 'Fab Ops Tech Spec'}, {'ListValueId': 1133, 'Name': 'Fab Ops Tech Sr'}, {'ListValueId': 1134, 'Name': 'Fab Ops Tech Sr Spc '}, {'ListValueId': 1135, 'Name': 'Fab Trainer 1 '}, {'ListValueId': 1136, 'Name': 'Fab Trainer 2'}, {'ListValueId': 1137, 'Name': 'Fab Trainer Spec'}, {'ListValueId': 1138, 'Name': 'Fab Trainer Sr'}, {'ListValueId': 1139, 'Name': 'Fab Trainer Sr Spec'}, {'ListValueId': 1140, 'Name': 'Sr Member of Technical Staff'}, {'ListValueId': 1141, 'Name': 'Field Sales Eng'}, {'ListValueId': 1142, 'Name': 'Field Sales Eng Prin'}, {'ListValueId': 1143, 'Name': 'Field Sales Eng Sr'}, {'ListValueId': 1144, 'Name': 'Field Sales Eng SrPr'}, {'ListValueId': 1145, 'Name': 'Field Sales Eng SrSt'}, {'ListValueId': 1146, 'Name': 'Field Sales Eng Stf'}, {'ListValueId': 1147, 'Name': 'Fin Analyst 1'}, {'ListValueId': 1148, 'Name': 'Fin Analyst 2'}, {'ListValueId': 1149, 'Name': 'Fin Analyst Prin 1'}, {'ListValueId': 1150, 'Name': 'Fin Analyst Prin 2'}, {'ListValueId': 1151, 'Name': 'Fin Analyst Sr 1'}, {'ListValueId': 1152, 'Name': 'Fin Analyst Sr 2'}, {'ListValueId': 1153, 'Name': 'Finance Director'}, {'ListValueId': 1154, 'Name': 'Finance Director Sr'}, {'ListValueId': 1155, 'Name': 'Finance Manager'}, {'ListValueId': 1156, 'Name': 'Finance SVP'}, {'ListValueId': 1157, 'Name': 'Finance VP'}, {'ListValueId': 1158, 'Name': 'Foundry Ops Dir'}, {'ListValueId': 1159, 'Name': 'Foundry Ops Dir Sr'}, {'ListValueId': 1160, 'Name': 'Foundry Tech Dir'}, {'ListValueId': 1161, 'Name': 'Foundry Tech Dir Sr'}, {'ListValueId': 1162, 'Name': 'Govt Relations Specialist'}, {'ListValueId': 1163, 'Name': 'Sr Govt Relations Specialist'}, {'ListValueId': 1164, 'Name': 'Staff Govt Relations Specialist'}, {'ListValueId': 1165, 'Name': 'Sr Staff Govt Relations Specialist'}, {'ListValueId': 1166, 'Name': 'HR Analyst 1'}, {'ListValueId': 1167, 'Name': 'HR Analyst 2'}, {'ListValueId': 1168, 'Name': 'HR Analyst Prin'}, {'ListValueId': 1169, 'Name': 'HR Analyst Sr'}, {'ListValueId': 1170, 'Name': 'HR Analyst Sr Staff'}, {'ListValueId': 1171, 'Name': 'HR Analyst Staff'}, {'ListValueId': 1172, 'Name': 'HR Director 2'}, {'ListValueId': 1173, 'Name': 'HR Director Sr'}, {'ListValueId': 1174, 'Name': 'HR Generalist 1'}, {'ListValueId': 1175, 'Name': 'HR Generalist 2'}, {'ListValueId': 1176, 'Name': 'HR Generalist Sr'}, {'ListValueId': 1177, 'Name': 'HR Mgr'}, {'ListValueId': 1178, 'Name': 'HR Mgr Sr'}, {'ListValueId': 1179, 'Name': 'HR Section Mgr'}, {'ListValueId': 1180, 'Name': 'HR VP'}, {'ListValueId': 1181, 'Name': 'HRBP 1'}, {'ListValueId': 1182, 'Name': 'HRBP 2'}, {'ListValueId': 1183, 'Name': 'HRBP Prin'}, {'ListValueId': 1184, 'Name': 'HRBP Sr'}, {'ListValueId': 1185, 'Name': 'HRBP Sr Prin'}, {'ListValueId': 1186, 'Name': 'HRBP Sr Staff'}, {'ListValueId': 1187, 'Name': 'HRBP Staff'}, {'ListValueId': 1188, 'Name': 'Industrial Eng'}, {'ListValueId': 1189, 'Name': 'Industrial Eng Prin'}, {'ListValueId': 1190, 'Name': 'Industrial Eng Sr'}, {'ListValueId': 1191, 'Name': 'Industrial Eng Sr Pr'}, {'ListValueId': 1192, 'Name': 'Industrial Eng Sr St'}, {'ListValueId': 1193, 'Name': 'Industrial Eng Staff'}, {'ListValueId': 1194, 'Name': 'Info Tech Dir'}, {'ListValueId': 1195, 'Name': 'Info Tech Dir Sr'}, {'ListValueId': 1196, 'Name': 'Info Tech Mgr'}, {'ListValueId': 1197, 'Name': 'Info Tech Mgr Sr'}, {'ListValueId': 1198, 'Name': 'Info Tech Sect Mgr'}, {'ListValueId': 1199, 'Name': 'Info Tech SVP'}, {'ListValueId': 1200, 'Name': 'VP of IT and Security '}, {'ListValueId': 1201, 'Name': 'ISR 1'}, {'ListValueId': 1202, 'Name': 'ISR 2'}, {'ListValueId': 1203, 'Name': 'ISR Prin'}, {'ListValueId': 1204, 'Name': 'ISR Sr'}, {'ListValueId': 1205, 'Name': 'ISR Sr Prin'}, {'ListValueId': 1206, 'Name': 'ISR Sr Staff'}, {'ListValueId': 1207, 'Name': 'ISR Staff'}, {'ListValueId': 1208, 'Name': 'Assoc Network Security Engr '}, {'ListValueId': 1209, 'Name': 'Network Security Engr '}, {'ListValueId': 1210, 'Name': 'IT Engr MTS'}, {'ListValueId': 1211, 'Name': 'IT Engr Prin'}, {'ListValueId': 1212, 'Name': 'Network Security Engr Sr'}, {'ListValueId': 1213, 'Name': 'IT Engr Sr MTS'}, {'ListValueId': 1214, 'Name': 'IT Engr Sr Staff'}, {'ListValueId': 1215, 'Name': 'Network Security Engr Prin'}, {'ListValueId': 1216, 'Name': 'IT Technician 1'}, {'ListValueId': 1217, 'Name': 'IT Technician 2'}, {'ListValueId': 1218, 'Name': 'IT Technician Prin'}, {'ListValueId': 1219, 'Name': 'IT Technician Spec'}, {'ListValueId': 1220, 'Name': 'IT Technician Sr'}, {'ListValueId': 1221, 'Name': 'Materials Assoc 1'}, {'ListValueId': 1222, 'Name': 'Materials Assoc 2'}, {'ListValueId': 1223, 'Name': 'Materials Assoc Sr'}, {'ListValueId': 1224, 'Name': 'Materials Spec'}, {'ListValueId': 1225, 'Name': 'Materials Spec Sr'}, {'ListValueId': 1226, 'Name': 'Mfg Engrg Dir'}, {'ListValueId': 1227, 'Name': 'Mfg Engrg Dir Sr'}, {'ListValueId': 1228, 'Name': 'Mfg Engrg Mgr'}, {'ListValueId': 1229, 'Name': 'Mfg Engrg Mgr Sr'}, {'ListValueId': 1230, 'Name': 'Mfg Engrg Sect Mgr'}, {'ListValueId': 1231, 'Name': 'Mfg Engrg VP'}, {'ListValueId': 1232, 'Name': 'Operations Dir Sr'}, {'ListValueId': 1233, 'Name': 'Operations Director'}, {'ListValueId': 1234, 'Name': 'Operations VP'}, {'ListValueId': 1235, 'Name': 'Payroll Analyst 1'}, {'ListValueId': 1236, 'Name': 'Payroll Analyst 2'}, {'ListValueId': 1237, 'Name': 'Payroll Analyst Pr 1'}, {'ListValueId': 1238, 'Name': 'Payroll Analyst Pr 2'}, {'ListValueId': 1239, 'Name': 'Payroll Analyst Sr 1'}, {'ListValueId': 1240, 'Name': 'Payroll Analyst Sr 2'}, {'ListValueId': 1241, 'Name': 'PC Technician 1'}, {'ListValueId': 1242, 'Name': 'PC Technician 2'}, {'ListValueId': 1243, 'Name': 'PC Technician Prin'}, {'ListValueId': 1244, 'Name': 'PC Technician Spec'}, {'ListValueId': 1245, 'Name': 'PC Technician Sr'}, {'ListValueId': 1246, 'Name': 'Plant Maint Tech 1'}, {'ListValueId': 1247, 'Name': 'Plant Maint Tech 2'}, {'ListValueId': 1248, 'Name': 'Plant Maint Tech Pr'}, {'ListValueId': 1249, 'Name': 'Plant Maint Tech Spc'}, {'ListValueId': 1250, 'Name': 'Plant Maint Tech Sr'}, {'ListValueId': 1251, 'Name': 'PM Tech 1'}, {'ListValueId': 1252, 'Name': 'PM Tech 2'}, {'ListValueId': 1253, 'Name': 'PM Tech Sr'}, {'ListValueId': 1254, 'Name': 'Probe Card Tech 1'}, {'ListValueId': 1255, 'Name': 'Probe Card Tech 2'}, {'ListValueId': 1256, 'Name': 'Probe Card Tech Spec'}, {'ListValueId': 1257, 'Name': 'Probe Card Tech Sr'}, {'ListValueId': 1258, 'Name': 'Probe Card Tech SrSp'}, {'ListValueId': 1259, 'Name': 'Proc Dev Eng Dir'}, {'ListValueId': 1260, 'Name': 'Proc Dev Eng Dir Sr'}, {'ListValueId': 1261, 'Name': 'Proc Dev Eng Mgr'}, {'ListValueId': 1262, 'Name': 'Proc Dev Eng Mgr Sr'}, {'ListValueId': 1263, 'Name': 'Proc Dev Eng SectMgr'}, {'ListValueId': 1264, 'Name': 'Proc Dev Engr'}, {'ListValueId': 1265, 'Name': 'Proc Dev Engr Prin'}, {'ListValueId': 1266, 'Name': 'Proc Dev Engr Sr'}, {'ListValueId': 1267, 'Name': 'Proc Dev Engr MTS'}, {'ListValueId': 1268, 'Name': 'Proc Dev Engr Sr Pr'}, {'ListValueId': 1269, 'Name': 'Proc Dev Engr Sr Stf'}, {'ListValueId': 1270, 'Name': 'Proc Dev Engr Staff'}, {'ListValueId': 1271, 'Name': 'Proc Sust Dir Sr'}, {'ListValueId': 1272, 'Name': 'Proc Sust Director'}, {'ListValueId': 1273, 'Name': 'Proc Sust Eng'}, {'ListValueId': 1274, 'Name': 'Proc Sust Eng Prin'}, {'ListValueId': 1275, 'Name': 'Proc Sust Eng Sr'}, {'ListValueId': 1276, 'Name': 'Proc Sust Eng MTS'}, {'ListValueId': 1277, 'Name': 'Proc Sust Eng Sr Pr'}, {'ListValueId': 1278, 'Name': 'Proc Sust Eng Sr Stf'}, {'ListValueId': 1279, 'Name': 'Proc Sust Eng Staff'}, {'ListValueId': 1280, 'Name': 'Proc Sust Mgr'}, {'ListValueId': 1281, 'Name': 'Proc Sust Mgr Sr'}, {'ListValueId': 1282, 'Name': 'Proc Sust Sect Mgr'}, {'ListValueId': 1283, 'Name': 'Process Tech 1'}, {'ListValueId': 1284, 'Name': 'Process Tech 2'}, {'ListValueId': 1285, 'Name': 'Process Tech Prin'}, {'ListValueId': 1286, 'Name': 'Process Tech Spec'}, {'ListValueId': 1287, 'Name': 'Process Tech Sr'}, {'ListValueId': 1288, 'Name': 'Procmnt Spec Prin'}, {'ListValueId': 1289, 'Name': 'Procmnt Spec Sr Prin'}, {'ListValueId': 1290, 'Name': 'Procmnt Spec Sr Stf'}, {'ListValueId': 1291, 'Name': 'Procmnt Spec Staff'}, {'ListValueId': 1292, 'Name': 'Procurement Mgr'}, {'ListValueId': 1293, 'Name': 'Prod Control Dir'}, {'ListValueId': 1294, 'Name': 'Prod Control Dir Sr'}, {'ListValueId': 1295, 'Name': 'Prod Control Mgr'}, {'ListValueId': 1296, 'Name': 'Prod Control Mgr Sr'}, {'ListValueId': 1297, 'Name': 'Prod Control SectMgr'}, {'ListValueId': 1298, 'Name': 'Product Engrg Mgr Sr'}, {'ListValueId': 1299, 'Name': 'Production Dir Sr'}, {'ListValueId': 1300, 'Name': 'Production Director'}, {'ListValueId': 1301, 'Name': 'Production Mgr'}, {'ListValueId': 1302, 'Name': 'Production Mgr Sr'}, {'ListValueId': 1303, 'Name': 'Production Sect Mgr'}, {'ListValueId': 1304, 'Name': 'ZZ - Production Supv 1'}, {'ListValueId': 1305, 'Name': 'ZZ - Production Supv 2'}, {'ListValueId': 1306, 'Name': 'ZZ - Production Supv Sr'}, {'ListValueId': 1307, 'Name': 'Program Eng Sr Prin'}, {'ListValueId': 1308, 'Name': 'Program Engr'}, {'ListValueId': 1309, 'Name': 'Program Engr Prin'}, {'ListValueId': 1310, 'Name': 'Program Engr Sr'}, {'ListValueId': 1311, 'Name': 'Program Engr MTS'}, {'ListValueId': 1312, 'Name': 'Program Engr Sr Staff'}, {'ListValueId': 1313, 'Name': 'Program Engr Staff'}, {'ListValueId': 1314, 'Name': 'QA Auditor 1'}, {'ListValueId': 1315, 'Name': 'QA Auditor 2'}, {'ListValueId': 1316, 'Name': 'QA Auditor Prin'}, {'ListValueId': 1317, 'Name': 'QA Auditor Sr'}, {'ListValueId': 1318, 'Name': 'QA Auditor Sr Prin'}, {'ListValueId': 1319, 'Name': 'QA Auditor Sr Staff'}, {'ListValueId': 1320, 'Name': 'QA Auditor Staff'}, {'ListValueId': 1321, 'Name': 'QA Auditor Tech 1'}, {'ListValueId': 1322, 'Name': 'QA Auditor Tech 2'}, {'ListValueId': 1323, 'Name': 'QA Auditor Tech Prin'}, {'ListValueId': 1324, 'Name': 'QA Auditor Tech Spec'}, {'ListValueId': 1325, 'Name': 'QA Auditor Tech Sr'}, {'ListValueId': 1326, 'Name': 'QA Engr'}, {'ListValueId': 1327, 'Name': 'QA Engr Prin'}, {'ListValueId': 1328, 'Name': 'QA Engr Sr'}, {'ListValueId': 1329, 'Name': 'QA Engr Sr Prin'}, {'ListValueId': 1330, 'Name': 'QA Engr Sr Staff'}, {'ListValueId': 1331, 'Name': 'QA Engr Staff'}, {'ListValueId': 1332, 'Name': 'QA Engrg Dir'}, {'ListValueId': 1333, 'Name': 'QA Engrg Dir Sr'}, {'ListValueId': 1334, 'Name': 'QA Engrg Mgr'}, {'ListValueId': 1335, 'Name': 'QA Engrg Mgr Sr'}, {'ListValueId': 1336, 'Name': 'QA Engrg Sect Mgr'}, {'ListValueId': 1337, 'Name': 'Sales Director'}, {'ListValueId': 1338, 'Name': 'Sales Director Sr'}, {'ListValueId': 1339, 'Name': 'Strat Mktg Spec 1'}, {'ListValueId': 1340, 'Name': 'Strat Mktg Spec 2'}, {'ListValueId': 1341, 'Name': 'Strat Mktg Spec MPS'}, {'ListValueId': 1342, 'Name': 'Strat Mktg Spec Prin'}, {'ListValueId': 1343, 'Name': 'Strat Mktg Spec Sr'}, {'ListValueId': 1344, 'Name': 'Strat Mktg Spec Sr MPS'}, {'ListValueId': 1345, 'Name': 'Strat Mktg Spec Sr Prin'}, {'ListValueId': 1346, 'Name': 'Strat Mktg Spec Sr Staff'}, {'ListValueId': 1347, 'Name': 'Strat Mktg Spec Staff'}, {'ListValueId': 1348, 'Name': 'System Admin 1'}, {'ListValueId': 1349, 'Name': 'System Admin 2'}, {'ListValueId': 1350, 'Name': 'System Admin Prin'}, {'ListValueId': 1351, 'Name': 'System Admin Sr'}, {'ListValueId': 1352, 'Name': 'System Admin Sr Prin'}, {'ListValueId': 1353, 'Name': 'System Admin Sr Stf'}, {'ListValueId': 1354, 'Name': 'System Admin Staff'}, {'ListValueId': 1355, 'Name': 'Tech Dev Eng Dir'}, {'ListValueId': 1356, 'Name': 'Tech Dev Eng Dir Sr'}, {'ListValueId': 1357, 'Name': 'Tech Dev Eng Mgr'}, {'ListValueId': 1358, 'Name': 'Tech Dev Eng SectMgr'}, {'ListValueId': 1359, 'Name': 'Tech Dev Eng Sr Mgr'}, {'ListValueId': 1360, 'Name': 'Tech Dev Engr'}, {'ListValueId': 1361, 'Name': 'Tech Dev Engr Prin'}, {'ListValueId': 1362, 'Name': 'Tech Dev Engr Sr'}, {'ListValueId': 1363, 'Name': 'Tech Dev Engr MTS'}, {'ListValueId': 1364, 'Name': 'Tech Dev Engr Sr Pr'}, {'ListValueId': 1365, 'Name': 'Tech Dev Engr Sr Stf'}, {'ListValueId': 1366, 'Name': 'Tech Dev Engr Staff'}, {'ListValueId': 1367, 'Name': 'Test Engr'}, {'ListValueId': 1368, 'Name': 'Test Engr Prin'}, {'ListValueId': 1369, 'Name': 'Test Engr Sr'}, {'ListValueId': 1370, 'Name': 'Test Engr MTS'}, {'ListValueId': 1371, 'Name': 'Test Engr Sr Prin'}, {'ListValueId': 1372, 'Name': 'Test Engr Sr Staff'}, {'ListValueId': 1373, 'Name': 'Test Engr Staff'}, {'ListValueId': 1374, 'Name': 'Test Op Tech Sr Spec'}, {'ListValueId': 1375, 'Name': 'Test Ops Tech 1'}, {'ListValueId': 1376, 'Name': 'Test Ops Tech 2'}, {'ListValueId': 1377, 'Name': 'Test Ops Tech Spec'}, {'ListValueId': 1378, 'Name': 'Test Ops Tech Sr'}, {'ListValueId': 1379, 'Name': 'Training Instr 1'}, {'ListValueId': 1380, 'Name': 'Training Instr 2'}, {'ListValueId': 1381, 'Name': 'Training Instr Prin'}, {'ListValueId': 1382, 'Name': 'Training Instr Sr'}, {'ListValueId': 1383, 'Name': 'Training Instr Sr St'}, {'ListValueId': 1384, 'Name': 'Training Instr Staff'}, {'ListValueId': 1385, 'Name': 'VP and Asst Gen Counsel'}, {'ListValueId': 1386, 'Name': 'Yield Engr'}, {'ListValueId': 1387, 'Name': 'Yield Engr Prin'}, {'ListValueId': 1388, 'Name': 'Yield Engr Sr'}, {'ListValueId': 1389, 'Name': 'Yield Engr MTS'}, {'ListValueId': 1390, 'Name': 'Yield Engr Sr Prin'}, {'ListValueId': 1391, 'Name': 'Yield Engr Sr Staff'}, {'ListValueId': 1392, 'Name': 'Yield Engr Staff'}, {'ListValueId': 1393, 'Name': 'Technical Advisor'}, {'ListValueId': 1394, 'Name': 'VP Tech Development Operations'}, {'ListValueId': 1395, 'Name': 'President'}, {'ListValueId': 1396, 'Name': 'CEO '}, {'ListValueId': 1397, 'Name': 'President and CEO'}, {'ListValueId': 1398, 'Name': 'Process Tech Supv 1'}, {'ListValueId': 1399, 'Name': 'Process Tech Supv 2'}, {'ListValueId': 1400, 'Name': 'Process Tech Supv Sr'}, {'ListValueId': 1401, 'Name': 'Process Tech Sect Mgr'}, {'ListValueId': 1402, 'Name': 'Process Tech Mgr'}, {'ListValueId': 1403, 'Name': 'Process Tech Mgr Sr'}, {'ListValueId': 1404, 'Name': 'Talent Acquisition Partner 1'}, {'ListValueId': 1405, 'Name': 'Talent Acquisition Partner 2'}, {'ListValueId': 1406, 'Name': 'Talent Acquisition Partner Sr'}, {'ListValueId': 1407, 'Name': 'Talent Acquisition Partner Stf'}, {'ListValueId': 1408, 'Name': 'Talent Acquis Partner Sr Staff '}, {'ListValueId': 1409, 'Name': 'Talent Acquis Partner Prin'}, {'ListValueId': 1410, 'Name': 'Automation Tech 1'}, {'ListValueId': 1411, 'Name': 'Automation Tech 2'}, {'ListValueId': 1412, 'Name': 'Automation Tech Sr'}, {'ListValueId': 1413, 'Name': 'Automation Tech Spec'}, {'ListValueId': 1414, 'Name': 'Automation Tech Prin'}, {'ListValueId': 1415, 'Name': 'VP Global Sales'}, {'ListValueId': 1416, 'Name': 'HR Supervisor '}, {'ListValueId': 1417, 'Name': 'Operations SVP'}, {'ListValueId': 1418, 'Name': 'Marketing Director'}, {'ListValueId': 1419, 'Name': 'Marketing Director Sr'}, {'ListValueId': 1420, 'Name': 'Manager Customer Management'}, {'ListValueId': 1421, 'Name': 'Sr Manager Customer Management'}, {'ListValueId': 1422, 'Name': 'Director Customer Management'}, {'ListValueId': 1423, 'Name': 'Sr Director Customer Management'}, {'ListValueId': 1424, 'Name': 'Contracts Administrator 1'}, {'ListValueId': 1425, 'Name': 'Contracts Administrator 2'}, {'ListValueId': 1426, 'Name': 'Contracts Administrator Senior'}, {'ListValueId': 1427, 'Name': 'Contracts Administrator Staff'}, {'ListValueId': 1428, 'Name': 'Contracts Administrator Prin'}, {'ListValueId': 1429, 'Name': 'Contracts Admr. Sr Prin'}, {'ListValueId': 1430, 'Name': 'Logistics Analyst 1'}, {'ListValueId': 1431, 'Name': 'Logistics Analyst 2'}, {'ListValueId': 1432, 'Name': 'Logistics Analyst Sr'}, {'ListValueId': 1433, 'Name': 'Logistics Analyst Staff'}, {'ListValueId': 1434, 'Name': 'Logistics Analyst Sr Staff'}, {'ListValueId': 1435, 'Name': 'Logistics Analyst Prin'}, {'ListValueId': 1436, 'Name': 'Operations Analyst 1'}, {'ListValueId': 1437, 'Name': 'Operations Analyst 2'}, {'ListValueId': 1438, 'Name': 'Operations Analyst Sr'}, {'ListValueId': 1439, 'Name': 'Operations Analyst Staff'}, {'ListValueId': 1440, 'Name': 'Operations Analyst Sr Staff'}, {'ListValueId': 1441, 'Name': 'Operations Analyst Prin'}, {'ListValueId': 1442, 'Name': 'Facilities Director Sr'}, {'ListValueId': 1443, 'Name': 'Facilities Director'}, {'ListValueId': 1444, 'Name': 'Facilities Mgr Sr'}, {'ListValueId': 1445, 'Name': 'Facilities Mgr'}, {'ListValueId': 1446, 'Name': 'Marketing Specialist 1'}, {'ListValueId': 1447, 'Name': 'Marketing Specialist 2'}, {'ListValueId': 1448, 'Name': 'Marketing Specialist Sr'}, {'ListValueId': 1449, 'Name': 'Marketing Specialist Staff'}, {'ListValueId': 1450, 'Name': 'Marketing Specialist Sr Staff'}, {'ListValueId': 1451, 'Name': 'Marketing Specialist Prin'}, {'ListValueId': 1452, 'Name': 'Design Enablement Sect Mgr'}, {'ListValueId': 1453, 'Name': 'Design Enablement Mgr'}, {'ListValueId': 1454, 'Name': 'Design Enablement Sr Mgr'}, {'ListValueId': 1455, 'Name': 'Design Enablement Dir'}, {'ListValueId': 1456, 'Name': 'Design Enablement Sr Dir'}, {'ListValueId': 1457, 'Name': 'EVP Chief Technology Officer'}, {'ListValueId': 1458, 'Name': 'Sr VP Chief Technology Officer'}, {'ListValueId': 1459, 'Name': 'Engineering Section Mgr'}, {'ListValueId': 1460, 'Name': 'Engineering Mgr'}, {'ListValueId': 1461, 'Name': 'Engineering Mgr Sr'}, {'ListValueId': 1462, 'Name': 'Engineering Director'}, {'ListValueId': 1463, 'Name': 'Engineering Director Sr'}, {'ListValueId': 1464, 'Name': 'Yield Engr Section Mgr'}, {'ListValueId': 1465, 'Name': 'Yield Engr Mgr'}, {'ListValueId': 1466, 'Name': 'Yield Engr Mgr Sr'}, {'ListValueId': 1467, 'Name': 'Yield Engr Director'}, {'ListValueId': 1468, 'Name': 'Yield Engr Director Sr'}, {'ListValueId': 1469, 'Name': 'Assistant Controller'}, {'ListValueId': 1470, 'Name': 'Automation Engrg Sect Mgr'}, {'ListValueId': 1471, 'Name': 'Automation Engrg Mgr'}, {'ListValueId': 1472, 'Name': 'Automation Engrg Sr Mgr'}, {'ListValueId': 1473, 'Name': 'Automation Engrg Director'}, {'ListValueId': 1474, 'Name': 'Automation Engrg Director Sr'}, {'ListValueId': 1475, 'Name': 'Automation Engrg VP'}, {'ListValueId': 1476, 'Name': 'Automation Engineer'}, {'ListValueId': 1477, 'Name': 'Automation Engineer Sr'}, {'ListValueId': 1478, 'Name': 'Automation Engineer Staff '}, {'ListValueId': 1479, 'Name': 'Automation Engineer Sr Staff'}, {'ListValueId': 1480, 'Name': 'Automation Engineer Prin'}, {'ListValueId': 1481, 'Name': 'Automation Engineer Sr Prin'}, {'ListValueId': 1482, 'Name': 'Automation Engineer MTS'}, {'ListValueId': 1483, 'Name': 'Customer Engineer'}, {'ListValueId': 1484, 'Name': 'Customer Engineer Sr'}, {'ListValueId': 1485, 'Name': 'Customer Engineer Staff'}, {'ListValueId': 1486, 'Name': 'Customer Engr Sr Staff'}, {'ListValueId': 1487, 'Name': 'Customer Engr Principal'}, {'ListValueId': 1488, 'Name': 'Customer Engr Sr Principal'}, {'ListValueId': 1489, 'Name': 'Customer Engrg Sect Manager'}, {'ListValueId': 1490, 'Name': 'Customer Engrg Manager'}, {'ListValueId': 1491, 'Name': 'Customer Engrg Sr Manager'}, {'ListValueId': 1492, 'Name': 'Customer Engrg Director'}, {'ListValueId': 1493, 'Name': 'Customer Engrg Sr Director'}, {'ListValueId': 1494, 'Name': 'VP, Customer Engineering'}, {'ListValueId': 1495, 'Name': 'Procurement Sect Mgr'}, {'ListValueId': 1496, 'Name': 'Procurement Sr Mgr'}, {'ListValueId': 1497, 'Name': 'Procurement Director'}, {'ListValueId': 1498, 'Name': 'Procurement Sr Director'}, {'ListValueId': 1499, 'Name': 'VP, Procurement'}, {'ListValueId': 1500, 'Name': 'Finance Manager Sr'}, {'ListValueId': 1501, 'Name': 'Finance Associate Director'}, {'ListValueId': 1502, 'Name': 'Chief Revenue Officer'}, {'ListValueId': 1503, 'Name': 'VP Design Enablement and PMO'}, {'ListValueId': 1504, 'Name': 'Accounting Director'}, {'ListValueId': 1505, 'Name': 'Corp Security Mgr'}, {'ListValueId': 1506, 'Name': 'Corp Security Sr Mgr'}, {'ListValueId': 1507, 'Name': 'Corp Security Dir'}, {'ListValueId': 1508, 'Name': 'Corp Security Sr Dir'}, {'ListValueId': 1509, 'Name': 'Member of Technical Staff'}, {'ListValueId': 1511, 'Name': 'Fellow'}, {'ListValueId': 1512, 'Name': 'Senior Fellow'}, {'ListValueId': 1513, 'Name': 'Info Systems Security Mgr'}, {'ListValueId': 1514, 'Name': 'EVP Tech Dev Design Enablement'}, {'ListValueId': 1515, 'Name': 'EVP Technology Development'}, {'ListValueId': 1516, 'Name': 'Marketing Section Manager'}, {'ListValueId': 1517, 'Name': 'Marketing Manager'}, {'ListValueId': 1518, 'Name': 'Marketing Senior Manager'}, {'ListValueId': 1519, 'Name': 'Govt Relations Manager'}, {'ListValueId': 1520, 'Name': 'Govt Relations Sr Manager'}, {'ListValueId': 1521, 'Name': 'Govt Relations Director'}, {'ListValueId': 1522, 'Name': 'Govt Relations Sr Director'}, {'ListValueId': 1523, 'Name': 'VP Strategic Marketing BU'}, {'ListValueId': 1524, 'Name': 'VP Quality and FA'}, {'ListValueId': 1525, 'Name': 'Marcom Section Manager'}, {'ListValueId': 1526, 'Name': 'Marcom Manager'}, {'ListValueId': 1527, 'Name': 'Marcom Senior Manager'}, {'ListValueId': 1528, 'Name': 'Marcom Director'}, {'ListValueId': 1529, 'Name': 'Marcom Senior Director'}, {'ListValueId': 1530, 'Name': 'Equipment Engr Sect Mgr'}, {'ListValueId': 1531, 'Name': 'Equipment Engr Mgr'}, {'ListValueId': 1532, 'Name': 'Equipment Engr Sr Mgr'}, {'ListValueId': 1533, 'Name': 'Equipment Engr Dir'}, {'ListValueId': 1534, 'Name': 'Equipment Engr Sr Dir'}, {'ListValueId': 1535, 'Name': 'VP Strategic Business Dev'}, {'ListValueId': 1536, 'Name': 'Chief Administrative Officer'}, {'ListValueId': 1537, 'Name': 'Chairman of the Board Manager'}, {'ListValueId': 1538, 'Name': 'Security Facility Officer'}, {'ListValueId': 1539, 'Name': 'Board Member'}, {'ListValueId': 1540, 'Name': 'Consultant'}, {'ListValueId': 1541, 'Name': 'Business Unit Manager'}, {'ListValueId': 1542, 'Name': 'Business Unit Sr Manager'}, {'ListValueId': 1543, 'Name': 'Business Unit Director'}, {'ListValueId': 1544, 'Name': 'Business Unit Sr Director'}, {'ListValueId': 1545, 'Name': 'Business Unit VP'}, {'ListValueId': 1546, 'Name': 'Business Unit SVP'}, {'ListValueId': 1547, 'Name': 'Chief Technology Officer (CTO)'}, {'ListValueId': 1548, 'Name': 'Business Development Mgr'}, {'ListValueId': 1549, 'Name': 'Business Development Sr Mgr'}, {'ListValueId': 1550, 'Name': 'Business Development Director'}, {'ListValueId': 1551, 'Name': 'Business Development Sr Dir'}, {'ListValueId': 1552, 'Name': 'Business Development VP'}, {'ListValueId': 1553, 'Name': 'Business Development SVP'}, {'ListValueId': 1554, 'Name': 'Corp Development Mgr'}, {'ListValueId': 1555, 'Name': 'Corp Development Sr Mgr'}, {'ListValueId': 1556, 'Name': 'Corp Development Dir'}, {'ListValueId': 1557, 'Name': 'Corp Development Sr DIr'}, {'ListValueId': 1558, 'Name': 'Corp Development SVP'}, {'ListValueId': 1559, 'Name': 'Sr Dir Digital Transformation'}, {'ListValueId': 1560, 'Name': 'Technical Writer 1'}, {'ListValueId': 1561, 'Name': 'Technical Writer 2'}, {'ListValueId': 1562, 'Name': 'Sr Technical Writer'}, {'ListValueId': 1563, 'Name': 'Staff Technical Writer'}, {'ListValueId': 1564, 'Name': 'Sr Staff Technical Writer'}, {'ListValueId': 1565, 'Name': 'Prin Technical Writer'}, {'ListValueId': 1566, 'Name': 'Field Apps Engr'}, {'ListValueId': 1567, 'Name': 'Field Apps Engr Sr'}, {'ListValueId': 1568, 'Name': 'Field Apps Engr Staff'}, {'ListValueId': 1569, 'Name': 'Field Apps Engr Sr Staff'}, {'ListValueId': 1570, 'Name': 'Field Apps Engr Prin'}, {'ListValueId': 1571, 'Name': 'Field Apps Engr Sr Prin'}, {'ListValueId': 1572, 'Name': 'Sect Mgr Field Apps Engr'}, {'ListValueId': 1573, 'Name': 'Mgr Field Apps Engrg'}, {'ListValueId': 1574, 'Name': 'Sr Mgr Field Apps Engrg'}, {'ListValueId': 1575, 'Name': 'Dir Field Apps Engrg'}, {'ListValueId': 1576, 'Name': 'Sr Dir Field Apps Engrg'}, {'ListValueId': 1577, 'Name': 'CLO and General Counsel'}, {'ListValueId': 1578, 'Name': 'Site Director'}, {'ListValueId': 1579, 'Name': 'Site Director Sr'}, {'ListValueId': 1580, 'Name': 'Facilities Engr 1'}, {'ListValueId': 1581, 'Name': 'Facilities Engr 2'}, {'ListValueId': 1582, 'Name': 'Facilities Engr Sr'}, {'ListValueId': 1583, 'Name': 'Facilities Engr Staff'}, {'ListValueId': 1584, 'Name': 'Facilities Engr Sr Staff'}, {'ListValueId': 1585, 'Name': 'Facilities Engr Prin'}, {'ListValueId': 1586, 'Name': 'Reliability Engr'}, {'ListValueId': 1587, 'Name': 'Reliability Engr Prin'}, {'ListValueId': 1588, 'Name': 'Reliability Engr Sr'}, {'ListValueId': 1589, 'Name': 'Reliability Engr Sr Prin'}, {'ListValueId': 1590, 'Name': 'Reliability Engr Sr Staff'}, {'ListValueId': 1591, 'Name': 'Reliability Engr Staff'}, {'ListValueId': 1592, 'Name': 'Reliability Engrg Dir'}, {'ListValueId': 1593, 'Name': 'Reliability Engrg Dir Sr'}, {'ListValueId': 1594, 'Name': 'Reliability Engrg Mgr'}, {'ListValueId': 1595, 'Name': 'Reliability Engrg Mgr Sr'}, {'ListValueId': 1596, 'Name': 'Reliability Engrg Sect Mgr'}, {'ListValueId': 1597, 'Name': 'FA Engrg Dir'}, {'ListValueId': 1598, 'Name': 'FA Engrg Dir Sr'}, {'ListValueId': 1599, 'Name': 'FA Engrg Mgr'}, {'ListValueId': 1600, 'Name': 'FA Engrg Mgr Sr'}, {'ListValueId': 1601, 'Name': 'FA Engrg Sect Mgr'}, {'ListValueId': 1602, 'Name': 'Chief Govt Affairs Officer'}, {'ListValueId': 1603, 'Name': 'PMO Section Manager'}, {'ListValueId': 1604, 'Name': 'PMO Manager'}, {'ListValueId': 1605, 'Name': 'PMO Senior Manager'}, {'ListValueId': 1606, 'Name': 'PMO Director'}, {'ListValueId': 1607, 'Name': 'PMO Senior Director'}, {'ListValueId': 1608, 'Name': 'Project Mgr'}, {'ListValueId': 1609, 'Name': 'Project Mgr Sr'}, {'ListValueId': 1610, 'Name': 'Project Mgr Staff'}, {'ListValueId': 1611, 'Name': 'Project Mgr Sr Staff'}, {'ListValueId': 1612, 'Name': 'Project Mgr Principal'}, {'ListValueId': 1613, 'Name': 'Project Mgr Sr Principal'}, {'ListValueId': 1614, 'Name': 'Business Ops ERP Sect Mgr'}, {'ListValueId': 1615, 'Name': 'Business Ops ERP Mgr'}, {'ListValueId': 1616, 'Name': 'Business Ops ERP Sr Mgr'}, {'ListValueId': 1617, 'Name': 'Business Ops ERP Dir'}, {'ListValueId': 1618, 'Name': 'Business Ops ERP Sr Dir'}, {'ListValueId': 1619, 'Name': 'Chief People Officer'}, {'ListValueId': 1620, 'Name': 'Engineering Tech 1'}, {'ListValueId': 1621, 'Name': 'Engineering Tech 2'}, {'ListValueId': 1622, 'Name': 'Engineering Tech Sr'}, {'ListValueId': 1623, 'Name': 'Engineering Tech Spec'}, {'ListValueId': 1624, 'Name': 'Engineering Tech Prin'}, {'ListValueId': 1625, 'Name': 'Procurement Sr Supervisor'}, {'ListValueId': 1626, 'Name': 'Info Systems Security Officer'}, {'ListValueId': 1627, 'Name': 'Info Sys Security Officer 2'}, {'ListValueId': 1628, 'Name': 'Planning Tech 1'}, {'ListValueId': 1629, 'Name': 'Planning Tech 2'}, {'ListValueId': 1630, 'Name': 'Planning Tech Sr'}, {'ListValueId': 1631, 'Name': 'Planning Tech Spec'}, {'ListValueId': 1632, 'Name': 'Planning Tech Prin'}, {'ListValueId': 1633, 'Name': 'Enterprise Architect Principal'}, {'ListValueId': 1634, 'Name': 'Enterprise Architect Sr Prin'}, {'ListValueId': 1635, 'Name': 'Principal Govt Relations Specialist'}, {'ListValueId': 1636, 'Name': 'Sr Principal Govt Relations Specialist'}, {'ListValueId': 1637, 'Name': 'AFSO'}, {'ListValueId': 1638, 'Name': 'FSO Sr'}, {'ListValueId': 1639, 'Name': 'FSO Staff'}, {'ListValueId': 1640, 'Name': 'FSO Sr Staff'}, {'ListValueId': 1641, 'Name': 'FSO Principal'}, {'ListValueId': 1642, 'Name': 'FSO Sr Principal'}, {'ListValueId': 1643, 'Name': 'Facilities Sect Mgr'}, {'ListValueId': 1644, 'Name': 'Account Manager 1'}, {'ListValueId': 1645, 'Name': 'Account Manager 2'}, {'ListValueId': 1646, 'Name': 'Account Manager Sr'}, {'ListValueId': 1647, 'Name': 'Account Manager Staff'}, {'ListValueId': 1648, 'Name': 'Account Manager Sr Staff'}, {'ListValueId': 1649, 'Name': 'Account Manager Principal'}, {'ListValueId': 1650, 'Name': 'Account Manager Sr Principal'}, {'ListValueId': 1651, 'Name': 'FSO Part Time'}, {'ListValueId': 1652, 'Name': 'Customer Billing Supervisor'}, {'ListValueId': 1653, 'Name': 'Corporate Paralegal 1'}, {'ListValueId': 1654, 'Name': 'Corporate Paralegal 2'}, {'ListValueId': 1655, 'Name': 'Corporate Paralegal Sr'}, {'ListValueId': 1657, 'Name': 'IT Helpdesk Supervisor 1'}, {'ListValueId': 1658, 'Name': 'IT Helpdesk Supervisor 2'}, {'ListValueId': 1659, 'Name': 'IT Helpdesk Supervisor Sr'}, {'ListValueId': 1660, 'Name': 'OPEX Manager'}, {'ListValueId': 1661, 'Name': 'SVP Strtgc Mrktg BU - A and D'}, {'ListValueId': 1662, 'Name': 'SVP Strtgc Mrktg BU - CMRCL'}, {'ListValueId': 1663, 'Name': 'VP Digital Transformation PMO'}, {'ListValueId': 1664, 'Name': 'Program Manager'}, {'ListValueId': 1665, 'Name': 'Program Sr Manager'}, {'ListValueId': 1666, 'Name': 'Program Director'}, {'ListValueId': 1667, 'Name': 'Program Sr Director'}, {'ListValueId': 1669, 'Name': 'Fab Trainer Assoc '}, {'ListValueId': 1670, 'Name': 'Fab Trainer 2 '}, {'ListValueId': 1671, 'Name': 'Fab Trainer'}, {'ListValueId': 1672, 'Name': 'Fab Trainer Spec '}, {'ListValueId': 1673, 'Name': 'Fab Trainer Senior'}, {'ListValueId': 1675, 'Name': 'Corp Development VP'}, {'ListValueId': 1676, 'Name': 'Operational Excellence Spec'}, {'ListValueId': 1677, 'Name': 'Industrial Eng Mgr Sr'}, {'ListValueId': 1678, 'Name': 'IP and Design Support Mgr'}, {'ListValueId': 1679, 'Name': 'IP and Design Support Mgr Sr'}, {'ListValueId': 1680, 'Name': 'IP and Design Support Dir'}, {'ListValueId': 1681, 'Name': 'IP and Design Support Dir Sr'}, {'ListValueId': 1684, 'Name': 'Program Manager Sr. '}, {'ListValueId': 1685, 'Name': 'Application Systems Engr Prin'}, {'ListValueId': 1686, 'Name': 'Training Manager'}, {'ListValueId': 1687, 'Name': 'Asst Corporate Counsel'}, {'ListValueId': 1688, 'Name': 'Corporate Counsel'}, {'ListValueId': 1689, 'Name': 'Corporate Counsel Sr'}, {'ListValueId': 1690, 'Name': 'HR Coordinator '}, {'ListValueId': 1691, 'Name': 'VP Platform Technology'}, {'ListValueId': 1692, 'Name': 'Production Supv 1'}, {'ListValueId': 1693, 'Name': 'Production Supv 2'}, {'ListValueId': 1694, 'Name': 'Production Supv Sr'}, {'ListValueId': 1695, 'Name': 'Senior Manager Training'}, {'ListValueId': 1696, 'Name': 'Corporate Counsel - Legal '}, {'ListValueId': 1697, 'Name': 'Senior Manager - Legal'}, {'ListValueId': 1698, 'Name': 'Technology Project Manager'}, {'ListValueId': 1699, 'Name': 'Technology Project Manager Sr'}, {'ListValueId': 1700, 'Name': 'VP of Technology Platforms'}, {'ListValueId': 1701, 'Name': 'Materials Security Tech 1 '}, {'ListValueId': 1702, 'Name': 'Materials Security Tech 2'}, {'ListValueId': 1703, 'Name': 'Materials Security Tech Sr '}, {'ListValueId': 1704, 'Name': 'Materials Security Tech Spc'}, {'ListValueId': 1705, 'Name': 'Materials Security Tech Sr Spc'}, {'ListValueId': 1706, 'Name': 'Fab Trainer Senior Spec'}, {'ListValueId': 1707, 'Name': 'Application Systems Engr'}, {'ListValueId': 1708, 'Name': 'Application Systems Engr Sr'}, {'ListValueId': 1709, 'Name': 'Application Systems Engr Sr Staff'}, {'ListValueId': 1710, 'Name': 'Application Systems Engr Staff '}, {'ListValueId': 1711, 'Name': 'Analog IP Design Engr Prin'}, {'ListValueId': 1712, 'Name': 'EHS Engr Sr Staff '}, {'ListValueId': 1713, 'Name': 'EHS Engr 1 '}, {'ListValueId': 1714, 'Name': 'VP Digital Transformation PMO'}, {'ListValueId': 1715, 'Name': 'Business Ops ERP Sr Mgr '}, {'ListValueId': 1716, 'Name': 'Database Admin Prin '}, {'ListValueId': 1717, 'Name': 'Analog IP Design Engr Sr Prin '}, {'ListValueId': 1718, 'Name': 'VP Corporate Controller'}, {'ListValueId': 1719, 'Name': 'FSO Part Time '}, {'ListValueId': 1720, 'Name': 'Automation Tech Sr'}, {'ListValueId': 1721, 'Name': 'Procurement Mgr '}, {'ListValueId': 1722, 'Name': 'EHS Technician '}, {'ListValueId': 1723, 'Name': 'VP Sales and Solutions Engrg '}, {'ListValueId': 1724, 'Name': 'President and COO'}, {'ListValueId': 1725, 'Name': 'Manufacturing Engineer '}, {'ListValueId': 1727, 'Name': 'Mrktg Event and Comm Rel Coord'}, {'ListValueId': 1728, 'Name': 'Reliability Engr Sr MTS'}, {'ListValueId': 1729, 'Name': 'Program Support Analyst '}, {'ListValueId': 1730, 'Name': 'Program Support Analyst Sr. '}, {'ListValueId': 1731, 'Name': 'Program Support Analyst Prin'}, {'ListValueId': 1732, 'Name': 'Electronic Design Engrg'}, {'ListValueId': 1733, 'Name': 'Development Engrg Tech'}, {'ListValueId': 1734, 'Name': 'Development Engrg Tech Sr'}, {'ListValueId': 1735, 'Name': 'Development Engrg Tech Spec'}, {'ListValueId': 1736, 'Name': 'Development Engrg Tech Sr Spec'}, {'ListValueId': 1737, 'Name': 'EVP Tech and Mfg - Mfg Admin'}, {'ListValueId': 1738, 'Name': 'Plant Engineering Technician'}, {'ListValueId': 1739, 'Name': 'Flow Engineer'}, {'ListValueId': 1741, 'Name': 'Assoc Org Dev Bus Partner '}, {'ListValueId': 1742, 'Name': 'Org Dev Bus Partner '}, {'ListValueId': 1743, 'Name': 'Senior Org Dev Bus Partner '}, {'ListValueId': 1744, 'Name': 'Associate Master Planner'}, {'ListValueId': 1745, 'Name': 'Master Planner'}, {'ListValueId': 1746, 'Name': 'Sr. Master Planner'}, {'ListValueId': 1747, 'Name': 'Master Planner Sect Mgr'}, {'ListValueId': 1748, 'Name': 'Master Planner Mgr'}, {'ListValueId': 1749, 'Name': 'Tech Dev Engr Sr MTS'}, {'ListValueId': 1750, 'Name': 'Industrial Eng Dir'}, {'ListValueId': 1751, 'Name': 'EHS Engr 2'}, {'ListValueId': 1752, 'Name': 'HR Director 1'}, {'ListValueId': 1753, 'Name': 'Supply Chain Mgmt Dir '}, {'ListValueId': 1754, 'Name': 'Fab D Tech 1'}, {'ListValueId': 1755, 'Name': 'Fab D Tech 2'}, {'ListValueId': 1756, 'Name': 'Fab D Tech Sr'}, {'ListValueId': 1757, 'Name': 'Fab D Tech Spec'}, {'ListValueId': 1758, 'Name': 'Fab D Tech Sr Spec'}, {'ListValueId': 1759, 'Name': 'Solutions Eng Sr'}, {'ListValueId': 1760, 'Name': 'Solutions Eng Staff'}, {'ListValueId': 1761, 'Name': 'Solutions Eng Sr Staff'}, {'ListValueId': 1762, 'Name': 'Solutions Eng Prin'}, {'ListValueId': 1763, 'Name': 'Solutions Eng Sr Prin'}, {'ListValueId': 1764, 'Name': 'Associate HRIS Analyst'}, {'ListValueId': 1765, 'Name': 'HRIS Analyst'}, {'ListValueId': 1766, 'Name': 'Sr HRIS Analyst'}, {'ListValueId': 1767, 'Name': 'HRIS Consultant'}, {'ListValueId': 1768, 'Name': 'Ethics and Compliance Manager'}, {'ListValueId': 1769, 'Name': 'Ethics and Compliance Sr Manager'}, {'ListValueId': 1770, 'Name': 'Ethics and Compliance Director'}, {'ListValueId': 1771, 'Name': 'Ethics and Compliance Sr Director'}]}, {'Name': '@AsOfDate', 'DisplayName': '@AsOfDate', 'ReportParameterMetadataId': '1e2fa368-49b6-4796-9606-7e5b5dd33cbe', 'DataType': 'DateTime', 'DefaultValue': '9/23/2023 12:00:00 AM', 'IsRequired': True}]}\n"
          ]
        }
      ]
    },
    {
      "cell_type": "markdown",
      "source": [
        "Get the report Data\n"
      ],
      "metadata": {
        "id": "XVGJgQjZGM8i"
      }
    },
    {
      "cell_type": "code",
      "source": [
        "import os\n",
        "import pandas_gbq\n",
        "import pandas as pd\n",
        "from dayforce_client.client import Dayforce\n",
        "from google.colab import auth\n",
        "from google.cloud import bigquery\n",
        "\n",
        "project = 'skywater-datalake-prod'\n",
        "location = 'US'\n",
        "client = bigquery.Client(project=project, location=location)\n",
        "\n",
        "auth.authenticate_user()\n",
        "\n",
        "#date = datetime.now().strftime(\"%Y_%m_%d\")\n",
        "#snapshotdate = datetime.now().strftime(\"%Y-%m-%d\")\n",
        "import datetime\n",
        "from datetime import date\n",
        "today = str(date.today())\n",
        "from datetime import datetime\n",
        "current_datetime = datetime.now()\n",
        "\n",
        "\n",
        "#need to put these in Google seceret manager\n",
        "DAYFORCE_USERNAME = 'datawarehouse.api'\n",
        "DAYFORCE_PASSWORD = 'Winter123!'\n",
        "DAYFORCE_CLIENT_NAMESPACE = 'skywater'\n",
        "\n",
        "df = Dayforce(username=DAYFORCE_USERNAME,\n",
        "              password=DAYFORCE_PASSWORD,\n",
        "              client_namespace=DAYFORCE_CLIENT_NAMESPACE,\n",
        "              dayforce_release=\"232\")\n",
        "\n",
        "#Call the API to get the report\n",
        "resp = df.get_report(xrefcode='API_Employee_Census')\n",
        "\n",
        "#load the JSON results into a pandas df\n",
        "pdf = pd.DataFrame.from_dict(resp.get(\"Data\"),orient='columns')\n",
        "\n",
        "pdf2=pd.concat([pdf.XRefCode, pdf.Rows.apply(lambda x:pd.Series(x))],axis=1)\n",
        "\n",
        "pdf2['SnapShotDate'] = today\n",
        "\n",
        "pdf2.to_csv('/tmp/employee_census_' + today +'.csv', index=False)\n",
        "#print(pdf2)\n",
        "pandas_gbq.to_gbq(pdf2,'Dayforce.Employee_Census_Staging',project_id='skywater-datalake-prod',if_exists='replace')\n",
        "\n",
        "# Copy the file to our new bucket.\n",
        "!gsutil -m mv /tmp/employee_census_* gs://datalake-prod-uploads/dayforce/api-file-backup/\n",
        "\n",
        "#print(resp.client)\n",
        "#print(type(resp.client))\n",
        "#print(resp.params)\n",
        "#print(type(resp.resp))\n",
        "#print(resp.resp.url)\n",
        "#print(resp.resp.status_code)\n",
        "#print(resp.resp.ok)\n",
        "#print(resp.resp.elapsed)\n",
        "#df.get_report(xrefcode='API_FinalPT', pageSize= '1')\n",
        "#print(page)\n"
      ],
      "metadata": {
        "colab": {
          "base_uri": "https://localhost:8080/"
        },
        "id": "K8C7j915_kNO",
        "outputId": "8b21a10f-cb5a-4d56-c220-7927101b37a5"
      },
      "execution_count": null,
      "outputs": [
        {
          "output_type": "stream",
          "name": "stderr",
          "text": [
            "100%|██████████| 1/1 [00:00<00:00, 1766.02it/s]\n"
          ]
        },
        {
          "output_type": "stream",
          "name": "stdout",
          "text": [
            "Copying file:///tmp/employee_census_2023-11-03.csv [Content-Type=text/csv]...\n",
            "/ [1/1 files][747.0 KiB/747.0 KiB] 100% Done                                    \n",
            "Operation completed over 1 objects/747.0 KiB.                                    \n",
            "Removing file:///tmp/employee_census_2023-11-03.csv...\n"
          ]
        }
      ]
    },
    {
      "cell_type": "code",
      "source": [
        "### TESTING BOX\n",
        "import os\n",
        "import json\n",
        "import pandas as pd\n",
        "\n",
        "\n",
        "from dayforce_client.client import Dayforce\n",
        "\n",
        "DAYFORCE_USERNAME = 'datawarehouse.api'\n",
        "DAYFORCE_PASSWORD = 'Winter123!'\n",
        "DAYFORCE_CLIENT_NAMESPACE = 'skywater'\n",
        "\n",
        "\n",
        "df = Dayforce(username=DAYFORCE_USERNAME,\n",
        "              password=DAYFORCE_PASSWORD,\n",
        "              client_namespace=DAYFORCE_CLIENT_NAMESPACE,\n",
        "              dayforce_release=\"231\")\n",
        "#for page, flip in df.get_employees().yield_records():\n",
        " #   print(flip)\n",
        "#    print(page)\n",
        "\n",
        "#Dayforce(username='your-username', client_namespace='your-client-namespace', dayforce_release=57, api_version='V1', url='https://usr57-services.dayforcehcm.com/Api/your-client-namespace/V1')\n",
        "#resp = df.get_report(xrefcode='API_FinalPT',pageSize=10)\n",
        "#resp = df.get_report(xrefcode='API_FinalPT')\n",
        "json_object = df.get_report(xrefcode='API_FinalPT')\n",
        "with open(\"/tmp/sample.json\", \"w\") as outfile:\n",
        "    outfile.write(json_object)\n",
        "\n",
        "    import uuid\n",
        "\n",
        "# Make a unique bucket to which we'll upload the file.\n",
        "# (GCS buckets are part of a single global namespace.)\n",
        "bucket_name = 'colab-sample-bucket-' + str(uuid.uuid1())\n",
        "\n",
        "# Full reference: https://cloud.google.com/storage/docs/gsutil/commands/mb\n",
        "!gsutil mb gs://datalake-prod-uploads/user_files\n",
        "\n",
        "# Copy the file to our new bucket.\n",
        "# Full reference: https://cloud.google.com/storage/docs/gsutil/commands/cp\n",
        "!gsutil cp /tmp/sample.json gs://datalake-prod-uploads/user_files\n",
        "\n",
        "# Finally, dump the contents of our newly copied file to make sure everything worked.\n",
        "!gsutil cat gs://datalake-prod-uploads/user_files/sample.json\n",
        "\n",
        "\n",
        "#for raw_data in (resp.get(\"Data\")):\n",
        " #   print(raw_data)\n",
        "  #  print(resp.get(\"Data\"))\n",
        "#print(resp.get(\"Data\"))\n",
        "\n"
      ],
      "metadata": {
        "colab": {
          "base_uri": "https://localhost:8080/",
          "height": 245
        },
        "id": "egLLdc6lMbU1",
        "outputId": "d0815862-cdb1-4091-81ea-7edae27ac330"
      },
      "execution_count": null,
      "outputs": [
        {
          "output_type": "error",
          "ename": "TypeError",
          "evalue": "ignored",
          "traceback": [
            "\u001b[0;31m---------------------------------------------------------------------------\u001b[0m",
            "\u001b[0;31mTypeError\u001b[0m                                 Traceback (most recent call last)",
            "\u001b[0;32m<ipython-input-75-5ac74c76bd78>\u001b[0m in \u001b[0;36m<cell line: 26>\u001b[0;34m()\u001b[0m\n\u001b[1;32m     25\u001b[0m \u001b[0mjson_object\u001b[0m \u001b[0;34m=\u001b[0m \u001b[0mdf\u001b[0m\u001b[0;34m.\u001b[0m\u001b[0mget_report\u001b[0m\u001b[0;34m(\u001b[0m\u001b[0mxrefcode\u001b[0m\u001b[0;34m=\u001b[0m\u001b[0;34m'API_FinalPT'\u001b[0m\u001b[0;34m)\u001b[0m\u001b[0;34m\u001b[0m\u001b[0;34m\u001b[0m\u001b[0m\n\u001b[1;32m     26\u001b[0m \u001b[0;32mwith\u001b[0m \u001b[0mopen\u001b[0m\u001b[0;34m(\u001b[0m\u001b[0;34m\"/tmp/sample.json\"\u001b[0m\u001b[0;34m,\u001b[0m \u001b[0;34m\"w\"\u001b[0m\u001b[0;34m)\u001b[0m \u001b[0;32mas\u001b[0m \u001b[0moutfile\u001b[0m\u001b[0;34m:\u001b[0m\u001b[0;34m\u001b[0m\u001b[0;34m\u001b[0m\u001b[0m\n\u001b[0;32m---> 27\u001b[0;31m     \u001b[0moutfile\u001b[0m\u001b[0;34m.\u001b[0m\u001b[0mwrite\u001b[0m\u001b[0;34m(\u001b[0m\u001b[0mjson_object\u001b[0m\u001b[0;34m)\u001b[0m\u001b[0;34m\u001b[0m\u001b[0;34m\u001b[0m\u001b[0m\n\u001b[0m\u001b[1;32m     28\u001b[0m \u001b[0;34m\u001b[0m\u001b[0m\n\u001b[1;32m     29\u001b[0m     \u001b[0;32mimport\u001b[0m \u001b[0muuid\u001b[0m\u001b[0;34m\u001b[0m\u001b[0;34m\u001b[0m\u001b[0m\n",
            "\u001b[0;31mTypeError\u001b[0m: write() argument must be str, not DayforceResponse"
          ]
        }
      ]
    },
    {
      "cell_type": "markdown",
      "source": [
        "https://pypi.org/project/dayforce-client/\n",
        "\n",
        "https://github.com/goodeggs/dayforce-client/tree/master\n",
        "\n"
      ],
      "metadata": {
        "id": "Y2GPYj58wU_F"
      }
    }
  ]
}